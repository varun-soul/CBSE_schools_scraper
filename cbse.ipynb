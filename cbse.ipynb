{
 "cells": [
  {
   "cell_type": "markdown",
   "id": "36f72132-3669-49e4-bfcc-93aa596648a3",
   "metadata": {},
   "source": [
    "# CBSE scraper:\n",
    "\n",
    "The purpose of this project is to create a webscraper that will scrape the cbse school directory and make a database of the CBSE schools in india."
   ]
  },
  {
   "cell_type": "code",
   "execution_count": 1,
   "id": "d35f9365-d2ec-4617-8bea-68e7483aec7d",
   "metadata": {},
   "outputs": [],
   "source": [
    "from bs4 import BeautifulSoup\n",
    "from selenium import webdriver\n",
    "from selenium.webdriver.common.by import By\n",
    "from selenium.webdriver.common.keys import Keys\n",
    "from selenium.webdriver.support.ui import Select\n",
    "from selenium.webdriver.chrome.options import Options as ChromeOptions\n",
    "from csv import writer\n",
    "import re\n",
    "import pandas as pd"
   ]
  },
  {
   "cell_type": "code",
   "execution_count": 22,
   "id": "275e0239-c117-4609-9914-ccdccd680f24",
   "metadata": {},
   "outputs": [],
   "source": [
    "options = ChromeOptions()\n",
    "options.add_argument('--headless')\n",
    "driver = webdriver.Chrome(options = options)"
   ]
  },
  {
   "cell_type": "code",
   "execution_count": 23,
   "id": "589a21d5-8c3e-400c-b08f-c705d500ca4d",
   "metadata": {},
   "outputs": [],
   "source": [
    "def loadpage():\n",
    "    driver.get(\"https://saras.cbse.gov.in/cbse_aff/schdir_Report/userview.aspx\")\n",
    "    state_radio = driver.find_element(By.XPATH,\"//input[@id='optlist_2']\")\n",
    "    state_radio.click()\n",
    "    driver.implicitly_wait(3)"
   ]
  },
  {
   "cell_type": "code",
   "execution_count": 24,
   "id": "6063f98b-7017-4fe7-b71b-e40ebeb7d595",
   "metadata": {},
   "outputs": [],
   "source": [
    "loadpage()"
   ]
  },
  {
   "cell_type": "code",
   "execution_count": 25,
   "id": "3ef88c97-48b0-4b7b-8f90-a8819a0b27d8",
   "metadata": {},
   "outputs": [],
   "source": [
    "states_dropdown = driver.find_element(By.XPATH, \"//select[@id='ddlitem']\")\n",
    "search_button = driver.find_element(By.XPATH, \"//input[@id='search']\")   \n",
    "data = []"
   ]
  },
  {
   "cell_type": "code",
   "execution_count": 26,
   "id": "482906cc-f29c-4636-a3d8-fa243c3fd312",
   "metadata": {},
   "outputs": [],
   "source": [
    "for i in range (1,39):\n",
    "    states_dropdown = driver.find_element(By.XPATH, \"//select[@id='ddlitem']\")\n",
    "    \n",
    "    Select(states_dropdown).select_by_index(i)\n",
    "    driver.implicitly_wait(3)\n",
    "\n",
    "    search_button = driver.find_element(By.XPATH, \"//input[@id='search']\")   \n",
    "    \n",
    "    search_button.click()\n",
    "    driver.implicitly_wait(3)\n",
    "\n",
    "    total_schools = int(driver.find_element(By.XPATH, \"//span[@id='lbltotal1']\").text)\n",
    "    total_pages = int(total_schools/25)+1\n",
    "    school_links = []\n",
    "    \n",
    "    for j in range(total_pages):\n",
    "        \n",
    "        big_table = driver.find_element(By.XPATH, \"//table[@id='T1']\")        \n",
    "        link_element = big_table.find_elements(By.TAG_NAME, \"a\")\n",
    "        for link in link_element:\n",
    "            if link not in school_links:\n",
    "                school_links.append(link.get_attribute('href'))\n",
    "\n",
    "        next_page_button = driver.find_element(By.XPATH, \"//input[@id='Button1']\")\n",
    "        driver.implicitly_wait(10)\n",
    "        driver.execute_script(\"arguments[0].click();\", next_page_button)\n",
    "        \n",
    "    for links in school_links:\n",
    "            \n",
    "        driver.get(links)\n",
    "        soup = BeautifulSoup(driver.page_source, 'html.parser')\n",
    "        link_table = soup.find('table', {'bordercolorlight': '#808080', 'bordercolordark': '#808080'})\n",
    "        rows = link_table.find_all('tr')\n",
    "\n",
    "        dict = {}\n",
    "\n",
    "        for row in rows[2:]:\n",
    "            cell = row.find_all('td')\n",
    "            if len(cell)>1:\n",
    "                label = cell[0].get_text(strip = True)\n",
    "                value = cell[1].get_text(strip = True)\n",
    "                dict.update({label:value})\n",
    "        \n",
    "        data.append(dict)\n",
    "    \n",
    "    loadpage()"
   ]
  },
  {
   "cell_type": "code",
   "execution_count": 27,
   "id": "9e92aeab-308e-43e9-a401-953b0774829b",
   "metadata": {},
   "outputs": [],
   "source": [
    "df = pd.DataFrame(data).fillna(0)"
   ]
  },
  {
   "cell_type": "code",
   "execution_count": 28,
   "id": "50231cb9-f0d2-4b7a-b387-69a940a74b53",
   "metadata": {},
   "outputs": [],
   "source": [
    "df.drop_duplicates(inplace = True)"
   ]
  },
  {
   "cell_type": "code",
   "execution_count": 31,
   "id": "8ecce02c-f1d7-4bf8-89a0-664c453eb03a",
   "metadata": {},
   "outputs": [],
   "source": [
    "file_name = \"cbse_school_data.xlsx\"\n",
    "df.to_excel(file_name)"
   ]
  }
 ],
 "metadata": {
  "kernelspec": {
   "display_name": "Python 3",
   "language": "python",
   "name": "python3"
  },
  "language_info": {
   "codemirror_mode": {
    "name": "ipython",
    "version": 3
   },
   "file_extension": ".py",
   "mimetype": "text/x-python",
   "name": "python",
   "nbconvert_exporter": "python",
   "pygments_lexer": "ipython3",
   "version": "3.12.3"
  }
 },
 "nbformat": 4,
 "nbformat_minor": 5
}
